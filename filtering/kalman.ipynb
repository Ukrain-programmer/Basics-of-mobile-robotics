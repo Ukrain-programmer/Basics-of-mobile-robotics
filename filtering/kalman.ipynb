{
 "cells": [
  {
   "cell_type": "markdown",
   "id": "b67f91d3-55b4-4a38-8e01-c86615e7cce8",
   "metadata": {},
   "source": [
    "## camera variance"
   ]
  },
  {
   "cell_type": "code",
   "execution_count": 12,
   "id": "f64607a3-3064-4b13-bd07-a2c6a11f11be",
   "metadata": {},
   "outputs": [
    {
     "name": "stdout",
     "output_type": "stream",
     "text": [
      "Press 'q' to stop capturing frames and calculate variance.\n",
      "Translation Variance (x, y, z): nan\n",
      "Rotation Variance (Rodrigues x, y, z): nan\n",
      "Translation Variance (x, y, z): nan\n",
      "Rotation Variance (Rodrigues x, y, z): nan\n"
     ]
    }
   ],
   "source": [
    "import cv2\n",
    "import numpy as np\n",
    "\n",
    "dictionary = cv2.aruco.getPredefinedDictionary(cv2.aruco.DICT_4X4_250)\n",
    "parameters =  cv2.aruco.DetectorParameters()\n",
    "\n",
    "# Camera matrix and distortion coefficients (example values, replace with your own)\n",
    "camera_matrix = np.array([[1000, 0, 640],\n",
    "                          [0, 1000, 360],\n",
    "                          [0, 0, 1]], dtype=np.float32)\n",
    "dist_coeffs = np.zeros((5,))  # Assuming no distortion for simplicity; replace with actual values if available\n",
    "\n",
    "# Marker size (in meters)\n",
    "marker_length = 0.1  # Replace with your marker sizeq\n",
    "\n",
    "# Arrays to store the translation and rotation data\n",
    "translations = []\n",
    "rotations = []\n",
    "\n",
    "# Open the webcam\n",
    "cap = cv2.VideoCapture(1)\n",
    "\n",
    "print(\"Press 'q' to stop capturing frames and calculate variance.\")\n",
    "\n",
    "while True:\n",
    "    ret, frame = cap.read()\n",
    "    if not ret:\n",
    "        print(\"Failed to capture frame\")\n",
    "        break\n",
    "\n",
    "    # Convert to grayscale for ArUco detection\n",
    "    gray = cv2.cvtColor(frame, cv2.COLOR_BGR2GRAY)\n",
    "\n",
    "    # Detect ArUco markers\n",
    "    corners, ids, rejected = cv2.aruco.detectMarkers(gray, dictionary, parameters=parameters)\n",
    "\n",
    "    if ids is not None:\n",
    "        # Estimate pose of the detected marker\n",
    "        rvecs, tvecs, _ = cv2.aruco.estimatePoseSingleMarkers(corners, marker_length, camera_matrix, dist_coeffs)\n",
    "\n",
    "        # Draw marker and pose on the frame\n",
    "        for rvec, tvec in zip(rvecs, tvecs):\n",
    "            cv2.aruco.drawDetectedMarkers(frame, corners)\n",
    "            #cv2.aruco.drawAxis(frame, camera_matrix, dist_coeffs, rvec, tvec, 0.1)\n",
    "\n",
    "            # Store the translation and rotation vectors\n",
    "            translations.append(tvec[0])  # Extract the translation vector (x, y, z)\n",
    "            rotations.append(rvec[0])    # Extract the rotation vector (Rodrigues)\n",
    "\n",
    "    # Display the frame\n",
    "    cv2.imshow('ArUco Detection', frame)\n",
    "\n",
    "    # Exit on 'q' key press\n",
    "    if cv2.waitKey(1) & 0xFF == ord('q'):\n",
    "        break\n",
    "\n",
    "# Release resources\n",
    "cap.release()\n",
    "cv2.destroyAllWindows()\n",
    "\n",
    "# Convert lists to numpy arrays for easier calculation\n",
    "translations = np.array(translations)\n",
    "rotations = np.array(rotations)\n",
    "\n",
    "# Calculate variance for translation and rotation\n",
    "translation_variance = np.var(translations, axis=0)\n",
    "rotation_variance = np.var(rotations, axis=0)\n",
    "\n",
    "# Display results\n",
    "print(\"Translation Variance (x, y, z):\", translation_variance)\n",
    "print(\"Rotation Variance (Rodrigues x, y, z):\", rotation_variance)\n",
    "\n",
    "print(\"Translation Variance (x, y, z):\", translation_variance*1e6)\n",
    "print(\"Rotation Variance (Rodrigues x, y, z):\", rotation_variance*(180/np.pi)**2)\n",
    "\n",
    "\n"
   ]
  },
  {
   "cell_type": "code",
   "execution_count": 34,
   "id": "74d3d637-1647-46b5-a8aa-f425c246e011",
   "metadata": {},
   "outputs": [
    {
     "name": "stderr",
     "output_type": "stream",
     "text": [
      "'pwd' is not recognized as an internal or external command,\n",
      "operable program or batch file.\n"
     ]
    }
   ],
   "source": [
    "!pwd"
   ]
  },
  {
   "cell_type": "code",
   "execution_count": null,
   "id": "f9f50ed8-cd89-4c6c-b50a-f50b92712fe8",
   "metadata": {},
   "outputs": [],
   "source": [
    "Press 'q' to stop capturing frames and calculate variance.\n",
    "Translation Variance (x, y, z): [3.39999552e-07 3.05553558e-08 2.49620193e-06]\n",
    "Rotation Variance (Rodrigues x, y, z): [4.79935094e-05 7.04296345e-06 2.23639587e-04]\n",
    "Translation Variance (x, y, z): [0.33999955 0.03055536 2.49620193]\n",
    "Rotation Variance (Rodrigues x, y, z): [0.1575534  0.02312069 0.73416546]"
   ]
  },
  {
   "cell_type": "markdown",
   "id": "dd0593ee-d4f2-4bb5-9878-82ff36fead00",
   "metadata": {},
   "source": [
    "## data acquisition"
   ]
  },
  {
   "cell_type": "code",
   "execution_count": 13,
   "id": "142074a5-ab48-4e77-a5ec-bd26b4aabd30",
   "metadata": {},
   "outputs": [],
   "source": [
    "def get_data():\n",
    "    thymio_data.append({\"ground\":list(node[\"prox.ground.reflected\"]), \n",
    "                        \"sensor\":list(node[\"prox.ground.reflected\"]),\n",
    "                        \"left_speed\":node[\"motor.left.speed\"],\n",
    "                        \"right_speed\":node[\"motor.right.speed\"]})\n",
    "    \n"
   ]
  },
  {
   "cell_type": "markdown",
   "id": "25ba9ae9-addb-4c4e-a462-c01966af6650",
   "metadata": {},
   "source": [
    "## prediction"
   ]
  },
  {
   "cell_type": "code",
   "execution_count": 29,
   "id": "6c1984d1-f4b2-40f2-adda-dfdd949ff215",
   "metadata": {},
   "outputs": [],
   "source": [
    "def prediction_step(X,U,P,previous_t):\n",
    "\n",
    "    current_t= time.time()\n",
    "    if previous_t:\n",
    "        dt=round(current_t-previous_t,4)\n",
    "    else:\n",
    "        time.sleep(0.2-dt)\n",
    "    \n",
    "    theta=X[2]\n",
    "    A = np.eye(len(X))\n",
    "    B = np.array([0.5*dt*np.cos(theta), 0.5*dt*np.cos(theta)],\n",
    "                [0.5*dt*np.sin(theta), 0.5*dt*np.sin(theta)],\n",
    "                [-dt/robot_length,dt/robot_length])\n",
    "    x_new= A.dot(X) + B.dot(U)\n",
    "    Q=np.eye(len(X))*speed_variance\n",
    "    P += B.dot(Q).dot(B.T) \n",
    "    return X,P,current_t\n",
    "    \n",
    "    "
   ]
  },
  {
   "cell_type": "markdown",
   "id": "9a3ee73e-b0da-4c38-9891-e0628048e587",
   "metadata": {},
   "source": [
    "## update "
   ]
  },
  {
   "cell_type": "code",
   "execution_count": 33,
   "id": "5e24393c-0589-4a38-923a-f7c759ee5e8f",
   "metadata": {},
   "outputs": [],
   "source": [
    "def update_step(X,Z,P,aruco_detected):\n",
    "    R=np.diag([translation_variance[0],translation_variance[1],rotation_variance[2]])\n",
    "    R_nt=R*np.inf\n",
    "    I=Z-X\n",
    "    H = np.eye(len(X))\n",
    "    if aruco_detected:\n",
    "        S=H.dot(P).dot(H.T) + R\n",
    "    else:\n",
    "        S=H.dot(P).dot(H.T) + R_nt\n",
    "    K_gain = P.dot(H.T).dot(np.linalg.inv(S))\n",
    "    X += K_gain.dot(I)\n",
    "    P -= K_gain.dot(H).dot(P)\n",
    "\n",
    "    return X, P"
   ]
  },
  {
   "cell_type": "markdown",
   "id": "a584d22c-a191-424c-b7a7-1f67ee15c8a6",
   "metadata": {},
   "source": [
    "\n",
    "## kalman main"
   ]
  },
  {
   "cell_type": "code",
   "execution_count": 30,
   "id": "9c511308-e1fc-4366-a5e1-9b4e3f0efe39",
   "metadata": {},
   "outputs": [
    {
     "ename": "NameError",
     "evalue": "name 'camera_variance' is not defined",
     "output_type": "error",
     "traceback": [
      "\u001b[1;31m---------------------------------------------------------------------------\u001b[0m",
      "\u001b[1;31mNameError\u001b[0m                                 Traceback (most recent call last)",
      "Cell \u001b[1;32mIn[30], line 4\u001b[0m\n\u001b[0;32m      2\u001b[0m robot_length\u001b[38;5;241m=\u001b[39m\u001b[38;5;241m100\u001b[39m\n\u001b[0;32m      3\u001b[0m speed_variance \u001b[38;5;241m=\u001b[39m \u001b[38;5;241m151.4387409522633\u001b[39m\n\u001b[1;32m----> 4\u001b[0m \u001b[43mcamera_variance\u001b[49m\n\u001b[0;32m      5\u001b[0m X\u001b[38;5;241m=\u001b[39mnp\u001b[38;5;241m.\u001b[39mzeros(\u001b[38;5;241m3\u001b[39m)\n\u001b[0;32m      6\u001b[0m U\u001b[38;5;241m=\u001b[39mnp\u001b[38;5;241m.\u001b[39mzeros(\u001b[38;5;241m2\u001b[39m)\n",
      "\u001b[1;31mNameError\u001b[0m: name 'camera_variance' is not defined"
     ]
    }
   ],
   "source": [
    "import time\n",
    "robot_length=100\n",
    "speed_variance = 151.4387409522633\n",
    "X=np.zeros(3)\n",
    "U=np.zeros(2)\n",
    "P=np.eye(3)*1\n",
    "X=np.zeros(3)\n",
    "Z = np.zeros(3)"
   ]
  }
 ],
 "metadata": {
  "kernelspec": {
   "display_name": "Python 3 (ipykernel)",
   "language": "python",
   "name": "python3"
  },
  "language_info": {
   "codemirror_mode": {
    "name": "ipython",
    "version": 3
   },
   "file_extension": ".py",
   "mimetype": "text/x-python",
   "name": "python",
   "nbconvert_exporter": "python",
   "pygments_lexer": "ipython3",
   "version": "3.12.7"
  }
 },
 "nbformat": 4,
 "nbformat_minor": 5
}
