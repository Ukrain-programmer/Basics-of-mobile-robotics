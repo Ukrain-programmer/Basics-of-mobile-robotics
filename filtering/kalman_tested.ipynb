{
 "cells": [
  {
   "cell_type": "markdown",
   "id": "b67f91d3-55b4-4a38-8e01-c86615e7cce8",
   "metadata": {},
   "source": [
    "## camera variance"
   ]
  },
  {
   "cell_type": "code",
   "execution_count": 1,
   "id": "f64607a3-3064-4b13-bd07-a2c6a11f11be",
   "metadata": {},
   "outputs": [
    {
     "name": "stdout",
     "output_type": "stream",
     "text": [
      "Press 'q' to stop capturing frames and calculate variance.\n"
     ]
    },
    {
     "ename": "error",
     "evalue": "Unknown C++ exception from OpenCV code",
     "output_type": "error",
     "traceback": [
      "\u001b[1;31m---------------------------------------------------------------------------\u001b[0m",
      "\u001b[1;31merror\u001b[0m                                     Traceback (most recent call last)",
      "Cell \u001b[1;32mIn[1], line 35\u001b[0m\n\u001b[0;32m     32\u001b[0m gray \u001b[38;5;241m=\u001b[39m cv2\u001b[38;5;241m.\u001b[39mcvtColor(frame, cv2\u001b[38;5;241m.\u001b[39mCOLOR_BGR2GRAY)\n\u001b[0;32m     34\u001b[0m \u001b[38;5;66;03m# Detect ArUco markers\u001b[39;00m\n\u001b[1;32m---> 35\u001b[0m corners, ids, rejected \u001b[38;5;241m=\u001b[39m \u001b[43mcv2\u001b[49m\u001b[38;5;241;43m.\u001b[39;49m\u001b[43maruco\u001b[49m\u001b[38;5;241;43m.\u001b[39;49m\u001b[43mdetectMarkers\u001b[49m\u001b[43m(\u001b[49m\u001b[43mgray\u001b[49m\u001b[43m,\u001b[49m\u001b[43m \u001b[49m\u001b[43mdictionary\u001b[49m\u001b[43m,\u001b[49m\u001b[43m \u001b[49m\u001b[43mparameters\u001b[49m\u001b[38;5;241;43m=\u001b[39;49m\u001b[43mparameters\u001b[49m\u001b[43m)\u001b[49m\n\u001b[0;32m     37\u001b[0m \u001b[38;5;28;01mif\u001b[39;00m ids \u001b[38;5;129;01mis\u001b[39;00m \u001b[38;5;129;01mnot\u001b[39;00m \u001b[38;5;28;01mNone\u001b[39;00m:\n\u001b[0;32m     38\u001b[0m     \u001b[38;5;66;03m# Estimate pose of the detected marker\u001b[39;00m\n\u001b[0;32m     39\u001b[0m     rvecs, tvecs, _ \u001b[38;5;241m=\u001b[39m cv2\u001b[38;5;241m.\u001b[39maruco\u001b[38;5;241m.\u001b[39mestimatePoseSingleMarkers(corners, marker_length, camera_matrix, dist_coeffs)\n",
      "\u001b[1;31merror\u001b[0m: Unknown C++ exception from OpenCV code"
     ]
    }
   ],
   "source": [
    "import cv2\n",
    "import numpy as np\n",
    "\n",
    "dictionary = cv2.aruco.getPredefinedDictionary(cv2.aruco.DICT_4X4_250)\n",
    "parameters =  cv2.aruco.DetectorParameters()\n",
    "\n",
    "# Camera matrix and distortion coefficients (example values, r\"\"eplace with your own)\n",
    "\"\"\"camera_matrix = np.array([[1000, 0, 640],\n",
    "                          [0, 1000, 360],\n",
    "                          [0, 0, 1]], dtype=np.float32)\n",
    "dist_coeffs = np.zeros((5,))  # Assuming no distortion for simplicity; replace with actual values if available\n",
    "\"\"\"\"\"\n",
    "\n",
    "camera_matrix = np.array([[1464.9313182647834, 0, 976.9397285664686],\n",
    "                          [0, 1476.4647299901512, 566.5872185399714],\n",
    "                          [0, 0, 1]], dtype=np.float32)\n",
    "dist_coeffs = np.array([- 0.13867638807778296, -0.8932816135659887, -0.0015612679961719675, 0.0012120012424455702, 1.3050427135455158])  # Assuming no distortion for simplicity; replace with actual values if available\n",
    "\n",
    "# Marker size (in meters)\n",
    "marker_length = 0.45  # Replace with your marker sizeq\n",
    "\n",
    "# Arrays to store the translation and rotation data\n",
    "translations = []\n",
    "rotations = []\n",
    "\n",
    "# Open the webcam\n",
    "cap = cv2.VideoCapture(1)\n",
    "\n",
    "print(\"Press 'q' to stop capturing frames and calculate variance.\")\n",
    "\n",
    "while True:\n",
    "    ret, frame = cap.read()\n",
    "    if not ret:\n",
    "        print(\"Failed to capture frame\")\n",
    "        break\n",
    "\n",
    "    # Convert to grayscale for ArUco detection\n",
    "    gray = cv2.cvtColor(frame, cv2.COLOR_BGR2GRAY)\n",
    "\n",
    "    # Detect ArUco markers\n",
    "    corners, ids, rejected = cv2.aruco.detectMarkers(gray, dictionary, parameters=parameters)\n",
    "\n",
    "    if ids is not None:\n",
    "        # Estimate pose of the detected marker\n",
    "        rvecs, tvecs, _ = cv2.aruco.estimatePoseSingleMarkers(corners, marker_length, camera_matrix, dist_coeffs)\n",
    "\n",
    "        # Draw marker and pose on the frame\n",
    "        for rvec, tvec in zip(rvecs, tvecs):\n",
    "            cv2.aruco.drawDetectedMarkers(frame, corners)\n",
    "            #cv2.aruco.drawAxis(frame, camera_matrix, dist_coeffs, rvec, tvec, 0.1)\n",
    "\n",
    "            # Store the translation and rotation vectors\n",
    "            translations.append(tvec[0])  # Extract the translation vector (x, y, z)\n",
    "            rotations.append(rvec[0])    # Extract the rotation vector (Rodrigues)\n",
    "\n",
    "    # Display the frame\n",
    "    cv2.imshow('ArUco Detection', frame)\n",
    "\n",
    "    # Exit on 'q' key press\n",
    "    if cv2.waitKey(1) & 0xFF == ord('q'):\n",
    "        break\n",
    "\n",
    "# Release resources\n",
    "cap.release()\n",
    "cv2.destroyAllWindows()\n",
    "\n",
    "# Convert lists to numpy arrays for easier calculation\n",
    "translations = np.array(translations)\n",
    "rotations = np.array(rotations)\n",
    "\n",
    "# Calculate variance for translation and rotation\n",
    "translation_variance = np.var(translations, axis=0)\n",
    "rotation_variance = np.var(rotations, axis=0)\n",
    "\n",
    "# Display results\n",
    "print(\"Translation Variance (x, y, z):\", translation_variance)\n",
    "print(\"Rotation Variance (Rodrigues x, y, z):\", rotation_variance)\n",
    "\n",
    "print(\"Translation Variance (x, y, z):\", translation_variance*1e6)\n",
    "print(\"Rotation Variance (Rodrigues x, y, z):\", rotation_variance*(180/np.pi)**2)\n",
    "\n",
    "\n"
   ]
  },
  {
   "cell_type": "code",
   "execution_count": null,
   "id": "f9f50ed8-cd89-4c6c-b50a-f50b92712fe8",
   "metadata": {},
   "outputs": [],
   "source": [
    "Press 'q' to stop capturing frames and calculate variance.\n",
    "Translation Variance (x, y, z): [3.39999552e-07 3.05553558e-08 2.49620193e-06]\n",
    "Rotation Variance (Rodrigues x, y, z): [4.79935094e-05 7.04296345e-06 2.23639587e-04]\n",
    "Translation Variance (x, y, z): [0.33999955 0.03055536 2.49620193]\n",
    "Rotation Variance (Rodrigues x, y, z): [0.1575534  0.02312069 0.73416546]"
   ]
  },
  {
   "cell_type": "markdown",
   "id": "dd0593ee-d4f2-4bb5-9878-82ff36fead00",
   "metadata": {},
   "source": [
    "## data acquisition"
   ]
  },
  {
   "cell_type": "code",
   "execution_count": 4,
   "id": "142074a5-ab48-4e77-a5ec-bd26b4aabd30",
   "metadata": {},
   "outputs": [],
   "source": [
    "def get_data():\n",
    "    thymio_data.append({\"ground\":list(node[\"prox.ground.reflected\"]), \n",
    "                        \"sensor\":list(node[\"prox.ground.reflected\"]),\n",
    "                        \"left_speed\":node[\"motor.left.speed\"],\n",
    "                        \"right_speed\":node[\"motor.right.speed\"]})\n",
    "    \n"
   ]
  },
  {
   "cell_type": "markdown",
   "id": "25ba9ae9-addb-4c4e-a462-c01966af6650",
   "metadata": {},
   "source": [
    "## prediction"
   ]
  },
  {
   "cell_type": "code",
   "execution_count": 38,
   "id": "6c1984d1-f4b2-40f2-adda-dfdd949ff215",
   "metadata": {},
   "outputs": [],
   "source": [
    "def prediction_step(X,U,P,previous_t,dt=0.2):\n",
    "\n",
    "    current_t= time.time()\n",
    "    if previous_t:\n",
    "        dt=round(current_t-previous_t,2)\n",
    "        if dt < 0.2 :\n",
    "            time.sleep(0.2-dt)\n",
    "    \n",
    "    theta=X[2]\n",
    "    A = np.eye(len(X))\n",
    "    \"\"\"B = np.array([0.5*dt*np.cos(theta), 0.5*dt*np.cos(theta)],\n",
    "                [0.5*dt*np.sin(theta), 0.5*dt*np.sin(theta)],\n",
    "                [-dt/robot_length,dt/robot_length])\"\"\"\n",
    "    B = np.array([[0.5 * dt * np.cos(theta), 0.5 * dt * np.cos(theta)],\n",
    "              [0.5 * dt * np.sin(theta), 0.5 * dt * np.sin(theta)],\n",
    "              [-dt / robot_length, dt / robot_length]])\n",
    "\n",
    "    x_new= A.dot(X) + B.dot(U)\n",
    "    Q=np.eye(len(U))*speed_variance\n",
    "    P += B.dot(Q).dot(B.T) \n",
    "    return X,P,current_t\n",
    "    \n",
    "    "
   ]
  },
  {
   "cell_type": "markdown",
   "id": "9a3ee73e-b0da-4c38-9891-e0628048e587",
   "metadata": {},
   "source": [
    "## update "
   ]
  },
  {
   "cell_type": "code",
   "execution_count": 47,
   "id": "5e24393c-0589-4a38-923a-f7c759ee5e8f",
   "metadata": {},
   "outputs": [],
   "source": [
    "def update_step(X,Z,P,aruco_detected):\n",
    "    R=np.diag([0.6988,0.1634,0.08])\n",
    "    \n",
    "    I=Z-X\n",
    "    H = np.eye(len(X))\n",
    "    if aruco_detected:\n",
    "        S=H.dot(P).dot(H.T) + R\n",
    "    else:\n",
    "        R_nt=R*10000\n",
    "        S=H.dot(P).dot(H.T) + R_nt\n",
    "        \n",
    "    K_gain = P.dot(H.T).dot(np.linalg.inv(S))\n",
    "    X = X+ K_gain.dot(I)\n",
    "    P = P- K_gain.dot(H).dot(P)\n",
    "\n",
    "    return X, P"
   ]
  },
  {
   "cell_type": "markdown",
   "id": "a584d22c-a191-424c-b7a7-1f67ee15c8a6",
   "metadata": {},
   "source": [
    "\n",
    "## kalman main"
   ]
  },
  {
   "cell_type": "code",
   "execution_count": 48,
   "id": "e910760b",
   "metadata": {},
   "outputs": [],
   "source": [
    "def kalman_filter(aruco_detected, x, u, z, P , previous_t):\n",
    "\n",
    "    X_new, P,next_t  = prediction_step(x, u, P,previous_t)\n",
    "    X_predicted = X_new\n",
    "    \n",
    "    X_new, P = update_step(X_new, z, P, aruco_detected)\n",
    "\n",
    "    return next_t, X_new, P,X_predicted\n"
   ]
  },
  {
   "cell_type": "code",
   "execution_count": 45,
   "id": "9c511308-e1fc-4366-a5e1-9b4e3f0efe39",
   "metadata": {},
   "outputs": [],
   "source": [
    "import time\n",
    "robot_length=110\n",
    "speed_variance = 97.85\n",
    "X=np.zeros(3)\n",
    "#U=np.zeros(2)\n",
    "U =np.array([2, -2], dtype=float)\n",
    "P=np.eye(3)*1\n",
    "X=np.zeros(3)\n",
    "Z = np.zeros(3)"
   ]
  },
  {
   "cell_type": "code",
   "execution_count": 49,
   "id": "03980526",
   "metadata": {},
   "outputs": [
    {
     "name": "stdout",
     "output_type": "stream",
     "text": [
      "0 [0. 0. 0.] [0. 0. 0.]\n",
      "1 [1.97 0.46 0.05] [0. 0. 0.]\n",
      "2 [4.18 1.04 0.12] [1.97 0.46 0.05]\n",
      "3 [6.58 1.75 0.19] [4.18 1.04 0.12]\n",
      "4 [9.06 2.62 0.27] [6.58 1.75 0.19]\n",
      "5 [11.5   3.67  0.35] [9.06 2.62 0.27]\n",
      "6 [13.76  4.85  0.44] [11.5   3.67  0.35]\n",
      "7 [15.77  6.1   0.53] [13.76  4.85  0.44]\n",
      "8 [17.52  7.38  0.63] [15.77  6.1   0.53]\n",
      "9 [19.04  8.65  0.73] [17.52  7.38  0.63]\n"
     ]
    }
   ],
   "source": [
    "x = np.array([0, 0, 0], dtype=float)\n",
    "u = np.array([2, -2], dtype=float)\n",
    "P = np.eye(3) * 1\n",
    "z = np.array([0, 0, 0], dtype=float)\n",
    "next_time = 0\n",
    "for i in range(10):\n",
    "    z = np.array([2*i, i, i/10], dtype=float)\n",
    "    next_time, x, P, x_predicted = kalman_filter(True, x, u, z, P, next_time)\n",
    "    time.sleep(1)\n",
    "    print(i, np.round(x, 2), np.round(x_predicted,2))"
   ]
  },
  {
   "cell_type": "code",
   "execution_count": 27,
   "id": "451894d9",
   "metadata": {},
   "outputs": [
    {
     "name": "stderr",
     "output_type": "stream",
     "text": [
      "C:\\Users\\Farah Elsoussi\\AppData\\Local\\Temp\\ipykernel_9948\\1726262899.py:3: RuntimeWarning: invalid value encountered in multiply\n",
      "  R_nt=R*np.inf\n"
     ]
    },
    {
     "name": "stdout",
     "output_type": "stream",
     "text": [
      "0 [0. 0. 0.] [0. 0. 0.]\n",
      "1 [0. 0. 0.] [0. 0. 0.]\n",
      "2 [0. 0. 0.] [0. 0. 0.]\n",
      "3 [0. 0. 0.] [0. 0. 0.]\n",
      "4 [0. 0. 0.] [0. 0. 0.]\n",
      "5 [0. 0. 0.] [0. 0. 0.]\n",
      "6 [0. 0. 0.] [0. 0. 0.]\n",
      "7 [0. 0. 0.] [0. 0. 0.]\n",
      "8 [0. 0. 0.] [0. 0. 0.]\n",
      "9 [0. 0. 0.] [0. 0. 0.]\n"
     ]
    }
   ],
   "source": [
    "next_time = 0\n",
    "for i in range(10):\n",
    "    z = np.array([2*i, i, i/10], dtype=float)\n",
    "    next_time, X, P,X_pred= kalman_filter(True, X, U, Z, P, next_time)\n",
    "    time.sleep(1)\n",
    "    print(i, np.round(X, 2), np.round(X_pred,2))"
   ]
  },
  {
   "cell_type": "code",
   "execution_count": 37,
   "id": "08b71960",
   "metadata": {},
   "outputs": [
    {
     "name": "stdout",
     "output_type": "stream",
     "text": [
      "0 [0. 0. 0.] [ 0.    0.   -0.01]\n",
      "1 [2.  0.5 0.1] [ 0.    0.   -0.07]\n",
      "2 [4.08 1.14 0.2 ] [2.   0.5  0.03]\n",
      "3 [6.21 1.95 0.3 ] [4.08 1.14 0.13]\n",
      "4 [8.33 2.91 0.4 ] [6.21 1.95 0.23]\n",
      "5 [10.41  4.03  0.5 ] [8.33 2.91 0.33]\n",
      "6 [12.39  5.28  0.6 ] [10.41  4.03  0.43]\n",
      "7 [14.25  6.64  0.7 ] [12.39  5.28  0.53]\n",
      "8 [15.95  8.06  0.8 ] [14.25  6.64  0.63]\n",
      "9 [17.49  9.5   0.9 ] [15.95  8.06  0.73]\n"
     ]
    }
   ],
   "source": []
  }
 ],
 "metadata": {
  "kernelspec": {
   "display_name": "Python 3 (ipykernel)",
   "language": "python",
   "name": "python3"
  },
  "language_info": {
   "codemirror_mode": {
    "name": "ipython",
    "version": 3
   },
   "file_extension": ".py",
   "mimetype": "text/x-python",
   "name": "python",
   "nbconvert_exporter": "python",
   "pygments_lexer": "ipython3",
   "version": "3.10.9"
  }
 },
 "nbformat": 4,
 "nbformat_minor": 5
}
