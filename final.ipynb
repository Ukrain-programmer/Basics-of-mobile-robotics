{
 "cells": [
  {
   "cell_type": "markdown",
   "source": [],
   "metadata": {
    "collapsed": false
   },
   "id": "52ee493adda52f94"
  },
  {
   "cell_type": "code",
   "outputs": [
    {
     "ename": "AttributeError",
     "evalue": "module 'cv2' has no attribute 'aruco'",
     "output_type": "error",
     "traceback": [
      "\u001B[0;31m---------------------------------------------------------------------------\u001B[0m",
      "\u001B[0;31mAttributeError\u001B[0m                            Traceback (most recent call last)",
      "Cell \u001B[0;32mIn[10], line 8\u001B[0m\n\u001B[1;32m      4\u001B[0m \u001B[38;5;28;01mfrom\u001B[39;00m \u001B[38;5;21;01msrc\u001B[39;00m\u001B[38;5;21;01m.\u001B[39;00m\u001B[38;5;21;01mvision\u001B[39;00m\u001B[38;5;21;01m.\u001B[39;00m\u001B[38;5;21;01mvision\u001B[39;00m \u001B[38;5;28;01mimport\u001B[39;00m ComputerVision\n\u001B[1;32m      5\u001B[0m \u001B[38;5;28;01mfrom\u001B[39;00m \u001B[38;5;21;01msrc\u001B[39;00m\u001B[38;5;21;01m.\u001B[39;00m\u001B[38;5;21;01mglobal_navigation\u001B[39;00m\u001B[38;5;21;01m.\u001B[39;00m\u001B[38;5;21;01mglobal_navigation\u001B[39;00m \u001B[38;5;28;01mimport\u001B[39;00m AStarNavigation\n\u001B[0;32m----> 8\u001B[0m vision \u001B[38;5;241m=\u001B[39m \u001B[43mComputerVision\u001B[49m\u001B[43m(\u001B[49m\u001B[43m)\u001B[49m\n\u001B[1;32m      9\u001B[0m image_var \u001B[38;5;241m=\u001B[39m vision\u001B[38;5;241m.\u001B[39mget_map()\n\u001B[1;32m     11\u001B[0m global_navigation \u001B[38;5;241m=\u001B[39m AStarNavigation(safety\u001B[38;5;241m=\u001B[39m\u001B[38;5;241m5\u001B[39m, file_path\u001B[38;5;241m=\u001B[39m\u001B[38;5;28;01mNone\u001B[39;00m)\n",
      "File \u001B[0;32m~/Desktop/EPFL/MICRO/project/src/vision/vision.py:20\u001B[0m, in \u001B[0;36mComputerVision.__init__\u001B[0;34m(self, calibration_file)\u001B[0m\n\u001B[1;32m     17\u001B[0m \u001B[38;5;28mself\u001B[39m\u001B[38;5;241m.\u001B[39mdist \u001B[38;5;241m=\u001B[39m np\u001B[38;5;241m.\u001B[39marray(calibration_data[\u001B[38;5;124m'\u001B[39m\u001B[38;5;124mdist_coeff\u001B[39m\u001B[38;5;124m'\u001B[39m])\n\u001B[1;32m     19\u001B[0m \u001B[38;5;66;03m# Define ARUCO dictionary to detect\u001B[39;00m\n\u001B[0;32m---> 20\u001B[0m \u001B[38;5;28mself\u001B[39m\u001B[38;5;241m.\u001B[39maruco_dict \u001B[38;5;241m=\u001B[39m \u001B[43mcv2\u001B[49m\u001B[38;5;241;43m.\u001B[39;49m\u001B[43maruco\u001B[49m\u001B[38;5;241m.\u001B[39mgetPredefinedDictionary(cv2\u001B[38;5;241m.\u001B[39maruco\u001B[38;5;241m.\u001B[39mDICT_6X6_250)\n\u001B[1;32m     21\u001B[0m \u001B[38;5;28mself\u001B[39m\u001B[38;5;241m.\u001B[39mparameters \u001B[38;5;241m=\u001B[39m cv2\u001B[38;5;241m.\u001B[39maruco\u001B[38;5;241m.\u001B[39mDetectorParameters()\n\u001B[1;32m     23\u001B[0m \u001B[38;5;66;03m# Initialize the video capture (0 for default camera)\u001B[39;00m\n",
      "\u001B[0;31mAttributeError\u001B[0m: module 'cv2' has no attribute 'aruco'"
     ]
    }
   ],
   "source": [
    "# from src.motion_control.LocalNavigator import LocalNavigator\n",
    "# from src.motion_control.MotionControl import MotionControl\n",
    "# from src.motion_control.ThymioController import ThymioController\n",
    "from src.vision.vision import ComputerVision\n",
    "from src.global_navigation.global_navigation import AStarNavigation\n",
    "\n",
    "\n",
    "vision = ComputerVision()\n",
    "image_var = vision.get_map()\n",
    "\n",
    "global_navigation = AStarNavigation(safety=5, file_path=None)\n",
    "global_path = global_navigation.run_with_var(image_var)\n",
    "\n",
    "print(global_path)\n",
    "\n",
    "# #Global navigation \n",
    "# path = [(19, 1), (20, 1), (21, 1), (21, 2), (21, 3), (21, 4)]\n",
    "# \n",
    "# \n",
    "# #Motion control, filtering, local navigation\n",
    "# thymio = ThymioController()\n",
    "# thymio.connect(timeout=5)\n",
    "# local_navigator = LocalNavigator(thymio)\n",
    "# motion_control = MotionControl(thymio, path)\n",
    "\n"
   ],
   "metadata": {
    "collapsed": false,
    "ExecuteTime": {
     "end_time": "2024-12-02T10:15:21.744211Z",
     "start_time": "2024-12-02T10:15:21.726480Z"
    }
   },
   "id": "613ece9b99c22b8",
   "execution_count": 10
  },
  {
   "cell_type": "code",
   "outputs": [
    {
     "ename": "NameError",
     "evalue": "name 'thymio' is not defined",
     "output_type": "error",
     "traceback": [
      "\u001B[0;31m---------------------------------------------------------------------------\u001B[0m",
      "\u001B[0;31mNameError\u001B[0m                                 Traceback (most recent call last)",
      "Cell \u001B[0;32mIn[9], line 5\u001B[0m\n\u001B[1;32m      3\u001B[0m \u001B[38;5;28;01mwhile\u001B[39;00m \u001B[38;5;28;01mTrue\u001B[39;00m:\n\u001B[0;32m----> 5\u001B[0m     \u001B[38;5;28;01mif\u001B[39;00m \u001B[43mlocal_navigator\u001B[49m\u001B[38;5;241m.\u001B[39mobstacle_detected():\n\u001B[1;32m      6\u001B[0m         thymio\u001B[38;5;241m.\u001B[39mstop()\n",
      "\u001B[0;31mNameError\u001B[0m: name 'local_navigator' is not defined",
      "\nDuring handling of the above exception, another exception occurred:\n",
      "\u001B[0;31mNameError\u001B[0m                                 Traceback (most recent call last)",
      "Cell \u001B[0;32mIn[9], line 15\u001B[0m\n\u001B[1;32m     12\u001B[0m         motion_control\u001B[38;5;241m.\u001B[39mexecute_path()\n\u001B[1;32m     14\u001B[0m \u001B[38;5;28;01mfinally\u001B[39;00m:\n\u001B[0;32m---> 15\u001B[0m     \u001B[43mthymio\u001B[49m\u001B[38;5;241m.\u001B[39mdisconnect()\n",
      "\u001B[0;31mNameError\u001B[0m: name 'thymio' is not defined"
     ]
    }
   ],
   "source": [
    "try:\n",
    "    # Define path (list of waypoints)\n",
    "    while True:\n",
    "\n",
    "        if local_navigator.obstacle_detected():\n",
    "            thymio.stop()\n",
    "            local_navigator.handle_obstacle()\n",
    "            \n",
    "        if local_navigator.kidnapping_detect():\n",
    "            thymio.stop()\n",
    "            \n",
    "        motion_control.execute_path()\n",
    "\n",
    "finally:\n",
    "    thymio.disconnect()"
   ],
   "metadata": {
    "collapsed": false,
    "ExecuteTime": {
     "end_time": "2024-12-02T09:27:55.758095Z",
     "start_time": "2024-12-02T09:27:55.738725Z"
    }
   },
   "id": "8c89d76c35cb7430",
   "execution_count": 9
  },
  {
   "cell_type": "code",
   "outputs": [],
   "source": [],
   "metadata": {
    "collapsed": false
   },
   "id": "40ce172382c26bb"
  }
 ],
 "metadata": {
  "kernelspec": {
   "display_name": "Python 3",
   "language": "python",
   "name": "python3"
  },
  "language_info": {
   "codemirror_mode": {
    "name": "ipython",
    "version": 2
   },
   "file_extension": ".py",
   "mimetype": "text/x-python",
   "name": "python",
   "nbconvert_exporter": "python",
   "pygments_lexer": "ipython2",
   "version": "2.7.6"
  }
 },
 "nbformat": 4,
 "nbformat_minor": 5
}
