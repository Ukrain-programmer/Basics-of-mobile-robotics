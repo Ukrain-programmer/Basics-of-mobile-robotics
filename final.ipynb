{
 "cells": [
  {
   "cell_type": "markdown",
   "source": [],
   "metadata": {
    "collapsed": false
   },
   "id": "52ee493adda52f94"
  },
  {
   "cell_type": "code",
   "outputs": [],
   "source": [
    "from src.motion_control.MotionControl import MotionControl\n",
    "from src.motion_control.ThymioController import ThymioController\n",
    "#Vision \n",
    "\n",
    "#Global navigation \n",
    "path = [(19, 1), (20, 1), (21, 1), (21, 2), (21, 3), (21, 4)]\n",
    "\n",
    "\n",
    "#Motion control, filtering, local navigation\n",
    "thymio = ThymioController()    \n",
    "    \n",
    "    \n",
    "\n"
   ],
   "metadata": {
    "collapsed": false
   },
   "id": "613ece9b99c22b8"
  },
  {
   "cell_type": "code",
   "outputs": [],
   "source": [
    "try:\n",
    "    # Define path (list of waypoints)\n",
    "    \n",
    "    thymio.connect(timeout=5)\n",
    "    motion_control = MotionControl(thymio, path)\n",
    "    motion_control.execute_path()\n",
    "\n",
    "finally:\n",
    "    thymio.disconnect()"
   ],
   "metadata": {
    "collapsed": false
   },
   "id": "8c89d76c35cb7430"
  }
 ],
 "metadata": {
  "kernelspec": {
   "display_name": "Python 3",
   "language": "python",
   "name": "python3"
  },
  "language_info": {
   "codemirror_mode": {
    "name": "ipython",
    "version": 2
   },
   "file_extension": ".py",
   "mimetype": "text/x-python",
   "name": "python",
   "nbconvert_exporter": "python",
   "pygments_lexer": "ipython2",
   "version": "2.7.6"
  }
 },
 "nbformat": 4,
 "nbformat_minor": 5
}
